{
 "cells": [
  {
   "cell_type": "code",
   "execution_count": null,
   "id": "fc3a6da9",
   "metadata": {},
   "outputs": [],
   "source": [
    "1. How do you distinguish between shutil.copy() and shutil.copytree()?\n",
    "ANS=While shutil. copy() will copy a single file, shutil. copytree() will copy an entire folder and every folder and file contained in it."
   ]
  },
  {
   "cell_type": "code",
   "execution_count": null,
   "id": "98746d77",
   "metadata": {},
   "outputs": [],
   "source": [
    "2. What function is used to rename files??\n",
    "ANS=rename() method in Python is used to rename a file or directory."
   ]
  },
  {
   "cell_type": "code",
   "execution_count": null,
   "id": "1afe8321",
   "metadata": {},
   "outputs": [],
   "source": [
    "3. What is the difference between the delete functions in the send2trash and shutil modules?\n",
    "ANs=The send2trash functions will move a file or folder to the recycle bin, while shutil functions will permanently delete files and folders."
   ]
  },
  {
   "cell_type": "code",
   "execution_count": null,
   "id": "9018ed57",
   "metadata": {},
   "outputs": [],
   "source": [
    "4.ZipFile objects have a close() method just like File objects’ close() method. What ZipFile method is equivalent to File objects’ open() method?\n",
    "ANS=The zipfile. ZipFile() function is equivalent to the open() function; the first argument is the filename, and the second argument is the mode to open the ZIP file in (read, write, or append).\n"
   ]
  },
  {
   "cell_type": "code",
   "execution_count": null,
   "id": "5e227c1f",
   "metadata": {},
   "outputs": [],
   "source": [
    "5. Create a programme that searches a folder tree for files with a certain file extension (such as .pdf or .jpg). Copy these files from whatever location they are in to a new folder."
   ]
  },
  {
   "cell_type": "code",
   "execution_count": null,
   "id": "9ff3bac3",
   "metadata": {},
   "outputs": [],
   "source": []
  },
  {
   "cell_type": "code",
   "execution_count": 17,
   "id": "2d413359",
   "metadata": {},
   "outputs": [
    {
     "name": "stdout",
     "output_type": "stream",
     "text": [
      "C:\\Users\\sharm\\OneDrive\\Documents/data mining mcq.pdf\n",
      "C:\\Users\\sharm\\OneDrive\\Documents/marketing anylytics.pdf\n",
      "C:\\Users\\sharm\\OneDrive\\Documents/monu22222.pdf\n",
      "C:\\Users\\sharm\\OneDrive\\Documents/Pravin sharma final report 1.pdf\n",
      "C:\\Users\\sharm\\OneDrive\\Documents/Pravin sharma final report.pdf\n",
      "C:\\Users\\sharm\\OneDrive\\Documents/Screenshot 2022-03-11 164713.png\n",
      "C:\\Users\\sharm\\OneDrive\\Documents/ss.pdf\n"
     ]
    }
   ],
   "source": [
    "# Python code to search .pdf or png files in current\n",
    "# folder (We can change file type/name and path\n",
    "# according to the requirements.\n",
    "import os\n",
    "import shutil\n",
    " \n",
    "# This is to get the directory that the program\n",
    "# is currently running in.\n",
    "# dir_path = os.path.dirname(os.path.realpath(__file__))\n",
    "# os.mkdir('my_new_folder')\n",
    " \n",
    "for root, dirs, files in os.walk(r'C:\\Users\\sharm\\OneDrive\\Documents'):\n",
    "    for file in files:\n",
    "#         print(file)\n",
    " \n",
    "        # change the extension from '.pdf'or png to\n",
    "        # the one of your choice.\n",
    "        if file.endswith('.pdf') or  file.endswith('.png')  :\n",
    "            print (root+'/'+str(file))\n",
    "            \n",
    "            shutil.copy(root+'/'+str(file), 'my_new_folder')"
   ]
  },
  {
   "cell_type": "code",
   "execution_count": null,
   "id": "6439718e",
   "metadata": {},
   "outputs": [],
   "source": []
  }
 ],
 "metadata": {
  "kernelspec": {
   "display_name": "Python 3",
   "language": "python",
   "name": "python3"
  },
  "language_info": {
   "codemirror_mode": {
    "name": "ipython",
    "version": 3
   },
   "file_extension": ".py",
   "mimetype": "text/x-python",
   "name": "python",
   "nbconvert_exporter": "python",
   "pygments_lexer": "ipython3",
   "version": "3.9.5"
  }
 },
 "nbformat": 4,
 "nbformat_minor": 5
}
